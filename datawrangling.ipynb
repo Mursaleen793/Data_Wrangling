{
 "cells": [
  {
   "cell_type": "markdown",
   "metadata": {},
   "source": [
    "# Notebook Created By Muhammad Mursaleen\n",
    "## 5th October 2023\n",
    "> Github: Mursaleen793 :\n",
    "> https://github.com/Mursaleen793/Data_Wrangling.git"
   ]
  },
  {
   "cell_type": "markdown",
   "metadata": {},
   "source": [
    "\n",
    "# Data Wrangling \n",
    "> Data wrangling is the process of cleaning, transforming, and organizing raw data into a structured format suitable for analysis. It involves handling missing values, correcting errors, and ensuring data consistency to facilitate meaningful insights and decision-making."
   ]
  },
  {
   "cell_type": "markdown",
   "metadata": {},
   "source": [
    "# Steps for Data Wrangling \n",
    "1. **Data Cleaning**: Identifying and handling missing or inconsistent data, dealing with outliers, and correcting errors in the dataset.\n",
    "\n",
    "2. **Data Transformation**: Restructuring the data by converting it into a different format or aggregating it to create new features that better suit the analysis or modeling objectives.\n",
    "\n",
    "3. **Data Enrichment**: Adding additional information to the dataset, often by merging it with other datasets to provide more context or depth.\n",
    "\n",
    "4. **Handling Missing Data**: Implementing strategies for dealing with missing values, such as imputation or removal, based on the nature of the data and the analysis goals.\n",
    "\n",
    "5. **Dealing with Outliers**: Identifying and managing outliers that can skew the analysis or modeling results.\n",
    "\n",
    "6. **Data Formatting**: Ensuring that data types are consistent, and the data is in the appropriate format for analysis."
   ]
  },
  {
   "cell_type": "code",
   "execution_count": null,
   "metadata": {},
   "outputs": [],
   "source": []
  }
 ],
 "metadata": {
  "language_info": {
   "name": "python"
  },
  "orig_nbformat": 4
 },
 "nbformat": 4,
 "nbformat_minor": 2
}
